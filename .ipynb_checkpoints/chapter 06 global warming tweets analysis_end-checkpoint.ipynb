{
 "cells": [
  {
   "cell_type": "markdown",
   "id": "0e9954ae-938e-4ed4-bfb5-254897867c07",
   "metadata": {
    "tags": []
   },
   "source": [
    "# Analysis of Global Warming Tweets on January 2023.\n",
    "This proejct is based on global warming tweets tweeted on January 2023 and stored in parquet format. I have added emotion (anger, joy, opotimism and sadness) and gender at the end of each tweets. Emotion analysis was performed using a pre-trained model from Hugging Face (Twitter-roBERTa-base for Emotion Recognition). This is a roBERTa-base model trained on ~58M tweets and finetuned for emotion recognition with the TweetEval benchmark. Each tweet is classified into four emotions (joy, optimism, anger, and sadness) with a confidence score. In addition, gender is extracted based on first name of user account if a user account has a real first name and the gender can be identified by python package gender guesser. "
   ]
  },
  {
   "cell_type": "markdown",
   "id": "63ff41ee-70b1-4c95-a0d1-5c96345127d7",
   "metadata": {
    "tags": []
   },
   "source": [
    "# Read tweets into a data frame"
   ]
  },
  {
   "cell_type": "code",
   "execution_count": 1,
   "id": "646d1f62-9544-4477-9e06-6c04918cb5d7",
   "metadata": {
    "tags": []
   },
   "outputs": [
    {
     "name": "stderr",
     "output_type": "stream",
     "text": [
      "Setting default log level to \"WARN\".\n",
      "To adjust logging level use sc.setLogLevel(newLevel). For SparkR, use setLogLevel(newLevel).\n",
      "25/10/16 07:47:45 WARN NativeCodeLoader: Unable to load native-hadoop library for your platform... using builtin-java classes where applicable\n",
      "25/10/16 07:47:45 WARN Utils: Service 'SparkUI' could not bind on port 4040. Attempting port 4041.\n",
      "25/10/16 07:47:45 WARN Utils: Service 'SparkUI' could not bind on port 4041. Attempting port 4042.\n",
      "25/10/16 07:47:45 WARN Utils: Service 'SparkUI' could not bind on port 4042. Attempting port 4043.\n",
      "25/10/16 07:47:45 WARN Utils: Service 'SparkUI' could not bind on port 4043. Attempting port 4044.\n",
      "25/10/16 07:47:45 WARN Utils: Service 'SparkUI' could not bind on port 4044. Attempting port 4045.\n",
      "25/10/16 07:47:45 WARN Utils: Service 'SparkUI' could not bind on port 4045. Attempting port 4046.\n",
      "25/10/16 07:47:45 WARN Utils: Service 'SparkUI' could not bind on port 4046. Attempting port 4047.\n",
      "25/10/16 07:47:45 WARN Utils: Service 'SparkUI' could not bind on port 4047. Attempting port 4048.\n",
      "25/10/16 07:47:45 WARN Utils: Service 'SparkUI' could not bind on port 4048. Attempting port 4049.\n",
      "25/10/16 07:47:45 WARN Utils: Service 'SparkUI' could not bind on port 4049. Attempting port 4050.\n",
      "25/10/16 07:47:45 WARN Utils: Service 'SparkUI' could not bind on port 4050. Attempting port 4051.\n",
      "25/10/16 07:47:45 WARN Utils: Service 'SparkUI' could not bind on port 4051. Attempting port 4052.\n",
      "25/10/16 07:47:45 WARN Utils: Service 'SparkUI' could not bind on port 4052. Attempting port 4053.\n",
      "25/10/16 07:47:45 WARN Utils: Service 'SparkUI' could not bind on port 4053. Attempting port 4054.\n",
      "25/10/16 07:47:45 WARN Utils: Service 'SparkUI' could not bind on port 4054. Attempting port 4055.\n",
      "25/10/16 07:47:45 WARN Utils: Service 'SparkUI' could not bind on port 4055. Attempting port 4056.\n",
      "25/10/16 07:47:45 WARN Utils: Service 'SparkUI' could not bind on port 4056. Attempting port 4057.\n",
      "25/10/16 07:47:45 WARN Utils: Service 'SparkUI' could not bind on port 4057. Attempting port 4058.\n",
      "25/10/16 07:47:45 WARN Utils: Service 'SparkUI' could not bind on port 4058. Attempting port 4059.\n",
      "25/10/16 07:47:45 WARN Utils: Service 'SparkUI' could not bind on port 4059. Attempting port 4060.\n",
      "25/10/16 07:47:45 WARN Utils: Service 'SparkUI' could not bind on port 4060. Attempting port 4061.\n",
      "25/10/16 07:47:45 WARN Utils: Service 'SparkUI' could not bind on port 4061. Attempting port 4062.\n",
      "25/10/16 07:47:45 WARN Utils: Service 'SparkUI' could not bind on port 4062. Attempting port 4063.\n",
      "25/10/16 07:47:45 WARN Utils: Service 'SparkUI' could not bind on port 4063. Attempting port 4064.\n",
      "25/10/16 07:47:45 WARN Utils: Service 'SparkUI' could not bind on port 4064. Attempting port 4065.\n",
      "25/10/16 07:47:45 WARN Utils: Service 'SparkUI' could not bind on port 4065. Attempting port 4066.\n",
      "25/10/16 07:47:45 WARN Utils: Service 'SparkUI' could not bind on port 4066. Attempting port 4067.\n",
      "25/10/16 07:47:45 WARN Utils: Service 'SparkUI' could not bind on port 4067. Attempting port 4068.\n",
      "25/10/16 07:47:45 WARN Utils: Service 'SparkUI' could not bind on port 4068. Attempting port 4069.\n",
      "                                                                                \r"
     ]
    }
   ],
   "source": [
    "from pyspark.sql import SparkSession\n",
    "import pyspark.sql.functions as F\n",
    "from helper_functions import displayByGroup\n",
    "import os\n",
    "import pandas as pd\n",
    "import seaborn as sns\n",
    "import matplotlib.pyplot as plt\n",
    "from pyspark.sql.functions import col, explode, desc\n",
    "\n",
    "# check if the Spark session is active. If it is activate, close it\n",
    "\n",
    "try:\n",
    "    if spark:\n",
    "        spark.stop()\n",
    "except:\n",
    "    pass    \n",
    "\n",
    "spark = (SparkSession.builder.appName(\"Global Warming Tweets Analysis\")\n",
    "        .config(\"spark.port.maxRetries\", \"100\")\n",
    "        .config(\"spark.sql.mapKeyDedupPolicy\", \"LAST_WIN\")  # This configuration allow the duplicate keys in the map data type.\n",
    "#        .config(\"spark.driver.memory\", \"16g\")\n",
    "        .getOrCreate())\n",
    "\n",
    "# confiture the log level (defaulty is WWARN)\n",
    "spark.sparkContext.setLogLevel('ERROR')\n",
    "\n",
    "# read the global warming tweets\n",
    "\n",
    "df=spark.read.parquet('/opt/shared/globalwarming_202301')"
   ]
  },
  {
   "cell_type": "markdown",
   "id": "15c361b6-f253-4b3f-8ea2-2a9dd25153a8",
   "metadata": {},
   "source": [
    "# In class exercise"
   ]
  },
  {
   "cell_type": "markdown",
   "id": "675df85d-1aa1-4e0c-b5b1-8685c447bab9",
   "metadata": {},
   "source": [
    "## Extract mentions of each Twitter user has"
   ]
  },
  {
   "cell_type": "code",
   "execution_count": 3,
   "id": "1553be56-6141-4d73-a437-9c2a872cbfae",
   "metadata": {
    "tags": []
   },
   "outputs": [
    {
     "data": {
      "text/plain": [
       "['id',\n",
       " '__twarc',\n",
       " 'attachments',\n",
       " 'author',\n",
       " 'author_id',\n",
       " 'context_annotations',\n",
       " 'conversation_id',\n",
       " 'created_at',\n",
       " 'edit_history_tweet_ids',\n",
       " 'entities',\n",
       " 'geo',\n",
       " 'in_reply_to_user',\n",
       " 'in_reply_to_user_id',\n",
       " 'lang',\n",
       " 'possibly_sensitive',\n",
       " 'public_metrics',\n",
       " 'referenced_tweets',\n",
       " 'reply_settings',\n",
       " 'text',\n",
       " 'withheld',\n",
       " 'anger',\n",
       " 'joy',\n",
       " 'optimism',\n",
       " 'sadness',\n",
       " 'first_name',\n",
       " 'gender',\n",
       " 'year']"
      ]
     },
     "execution_count": 3,
     "metadata": {},
     "output_type": "execute_result"
    }
   ],
   "source": [
    "df.columns"
   ]
  },
  {
   "cell_type": "code",
   "execution_count": 14,
   "id": "96be4cbc-2d4e-471f-9eea-7891909dc044",
   "metadata": {
    "tags": []
   },
   "outputs": [
    {
     "name": "stdout",
     "output_type": "stream",
     "text": [
      "root\n",
      " |-- author: struct (nullable = true)\n",
      " |    |-- created_at: string (nullable = true)\n",
      " |    |-- description: string (nullable = true)\n",
      " |    |-- entities: struct (nullable = true)\n",
      " |    |    |-- description: struct (nullable = true)\n",
      " |    |    |    |-- cashtags: array (nullable = true)\n",
      " |    |    |    |    |-- element: struct (containsNull = true)\n",
      " |    |    |    |    |    |-- end: long (nullable = true)\n",
      " |    |    |    |    |    |-- start: long (nullable = true)\n",
      " |    |    |    |    |    |-- tag: string (nullable = true)\n",
      " |    |    |    |-- hashtags: array (nullable = true)\n",
      " |    |    |    |    |-- element: struct (containsNull = true)\n",
      " |    |    |    |    |    |-- end: long (nullable = true)\n",
      " |    |    |    |    |    |-- start: long (nullable = true)\n",
      " |    |    |    |    |    |-- tag: string (nullable = true)\n",
      " |    |    |    |-- mentions: array (nullable = true)\n",
      " |    |    |    |    |-- element: struct (containsNull = true)\n",
      " |    |    |    |    |    |-- end: long (nullable = true)\n",
      " |    |    |    |    |    |-- start: long (nullable = true)\n",
      " |    |    |    |    |    |-- username: string (nullable = true)\n",
      " |    |    |    |-- urls: array (nullable = true)\n",
      " |    |    |    |    |-- element: struct (containsNull = true)\n",
      " |    |    |    |    |    |-- display_url: string (nullable = true)\n",
      " |    |    |    |    |    |-- end: long (nullable = true)\n",
      " |    |    |    |    |    |-- expanded_url: string (nullable = true)\n",
      " |    |    |    |    |    |-- start: long (nullable = true)\n",
      " |    |    |    |    |    |-- url: string (nullable = true)\n",
      " |    |    |-- url: struct (nullable = true)\n",
      " |    |    |    |-- urls: array (nullable = true)\n",
      " |    |    |    |    |-- element: struct (containsNull = true)\n",
      " |    |    |    |    |    |-- display_url: string (nullable = true)\n",
      " |    |    |    |    |    |-- end: long (nullable = true)\n",
      " |    |    |    |    |    |-- expanded_url: string (nullable = true)\n",
      " |    |    |    |    |    |-- start: long (nullable = true)\n",
      " |    |    |    |    |    |-- url: string (nullable = true)\n",
      " |    |-- id: string (nullable = true)\n",
      " |    |-- location: string (nullable = true)\n",
      " |    |-- name: string (nullable = true)\n",
      " |    |-- pinned_tweet_id: string (nullable = true)\n",
      " |    |-- profile_image_url: string (nullable = true)\n",
      " |    |-- protected: boolean (nullable = true)\n",
      " |    |-- public_metrics: struct (nullable = true)\n",
      " |    |    |-- followers_count: long (nullable = true)\n",
      " |    |    |-- following_count: long (nullable = true)\n",
      " |    |    |-- listed_count: long (nullable = true)\n",
      " |    |    |-- tweet_count: long (nullable = true)\n",
      " |    |-- url: string (nullable = true)\n",
      " |    |-- username: string (nullable = true)\n",
      " |    |-- verified: boolean (nullable = true)\n",
      " |    |-- withheld: struct (nullable = true)\n",
      " |    |    |-- country_codes: array (nullable = true)\n",
      " |    |    |    |-- element: string (containsNull = true)\n",
      "\n"
     ]
    }
   ],
   "source": [
    "df.select('author').printSchema()"
   ]
  },
  {
   "cell_type": "code",
   "execution_count": 15,
   "id": "65dd1611-b76f-4173-916c-14daee985864",
   "metadata": {
    "tags": []
   },
   "outputs": [
    {
     "name": "stdout",
     "output_type": "stream",
     "text": [
      "root\n",
      " |-- mentions: array (nullable = true)\n",
      " |    |-- element: struct (containsNull = true)\n",
      " |    |    |-- end: long (nullable = true)\n",
      " |    |    |-- start: long (nullable = true)\n",
      " |    |    |-- username: string (nullable = true)\n",
      "\n"
     ]
    }
   ],
   "source": [
    "df.select('author.entities.description.mentions').printSchema()"
   ]
  },
  {
   "cell_type": "code",
   "execution_count": 4,
   "id": "6a2809b2-ed24-484b-a626-dbe5ac874167",
   "metadata": {
    "tags": []
   },
   "outputs": [
    {
     "name": "stdout",
     "output_type": "stream",
     "text": [
      "+---------------+--------------------+\n",
      "|       username|            mentions|\n",
      "+---------------+--------------------+\n",
      "|  SueMasonBurns|   [jayjayjjetplane]|\n",
      "|     thebeachll|        [DAlSlESSSS]|\n",
      "|brucecharityorg|       [BrucewilzUg]|\n",
      "|   gabi_spilker|[EXCInequality, U...|\n",
      "|       tribblez|          [theauxdj]|\n",
      "| JavidGillaniMH|     [muslimhandspk]|\n",
      "|   AngryGustavo|      [Polandballbr]|\n",
      "|  dwallacewells|[nytopinion, NYTmag]|\n",
      "| WillKochtitzky|         [unetweets]|\n",
      "|      AbeeraMR_|          [sosart90]|\n",
      "|          Tyrnn|     [BoomerExpress]|\n",
      "|   sapnadeora93|[digvijaya_28, Ka...|\n",
      "|  JacobsOSeaman|      [DailyMonitor]|\n",
      "|DiamondGBraxton|[bestmicrofic, fo...|\n",
      "|   Jane_Munroe_|      [jane_munroe_]|\n",
      "|       trumphop|             [pbump]|\n",
      "|    SeaPupEllie|   [Nina_once_again]|\n",
      "|    nj_morrison|[AFP, EUDataNewsH...|\n",
      "|       mmm_soup|           [dvd_mcf]|\n",
      "|     PtlbSchool|[PTLBSchools, Str...|\n",
      "+---------------+--------------------+\n",
      "only showing top 20 rows\n",
      "\n"
     ]
    }
   ],
   "source": [
    "df1=df.select('author.username', col('author.entities.description.mentions.username').alias('mentions')).filter(F.col('mentions').isNotNull())\n",
    "\n",
    "df1.show()"
   ]
  },
  {
   "cell_type": "code",
   "execution_count": 5,
   "id": "849549f6-d150-4ebd-aeaf-3f968c81127f",
   "metadata": {
    "tags": []
   },
   "outputs": [
    {
     "name": "stderr",
     "output_type": "stream",
     "text": [
      "[Stage 4:==================================================>      (57 + 7) / 64]\r"
     ]
    },
    {
     "name": "stdout",
     "output_type": "stream",
     "text": [
      "+-----------+---------------+\n",
      "|   username|       mentions|\n",
      "+-----------+---------------+\n",
      "|   00Meeach|           USMC|\n",
      "|   0912abhi|  MmmutOfficial|\n",
      "| 0Cuculainn|           jack|\n",
      "|  0HG0D0HN0|    domina_jinx|\n",
      "|   0mega001|     KaCyberApp|\n",
      "|0rvicBuilds|    TheDailyBxB|\n",
      "| 0xGamer030|      Solar_Dex|\n",
      "| 0xGamer030|      Solar_Dex|\n",
      "|      0xLMC|TsunamiFinance_|\n",
      "|      0xLMC| thewolvesgroup|\n",
      "|      0xLMC|  emptyholdings|\n",
      "|   0xMojojo|      Pak_Gregg|\n",
      "|   0xMojojo|       jayefunk|\n",
      "|   0xMojojo|     Goblintown|\n",
      "|    0xPetra|         zkMaps|\n",
      "|   0xVodnik|  cryptotitvags|\n",
      "|   0xVodnik| cryptobirbsnft|\n",
      "|   0xVodnik|    shroomionft|\n",
      "|      0xak_|       stanford|\n",
      "|      0xak_|     cyberkongz|\n",
      "+-----------+---------------+\n",
      "only showing top 20 rows\n",
      "\n"
     ]
    },
    {
     "name": "stderr",
     "output_type": "stream",
     "text": [
      "                                                                                \r"
     ]
    }
   ],
   "source": [
    "df2=df1.select('username', explode('mentions').alias('mentions'))\n",
    "\n",
    "df2.orderBy('username').show()"
   ]
  },
  {
   "cell_type": "markdown",
   "id": "b1bd1e11-57a1-4f4a-a4e7-b562a20e517a",
   "metadata": {},
   "source": [
    "### Top 5 users who mentioned most people"
   ]
  },
  {
   "cell_type": "code",
   "execution_count": 6,
   "id": "48e8b21f-c8fc-4bc3-8524-eaa693741889",
   "metadata": {
    "tags": []
   },
   "outputs": [
    {
     "name": "stderr",
     "output_type": "stream",
     "text": [
      "[Stage 5:====================================================>    (59 + 5) / 64]\r"
     ]
    },
    {
     "name": "stdout",
     "output_type": "stream",
     "text": [
      "+---------------+-----+\n",
      "|       username|count|\n",
      "+---------------+-----+\n",
      "| IMPraveenDalal| 1128|\n",
      "|          _PTLB|  678|\n",
      "| _DigitalPolice|  410|\n",
      "|  FurusetGerden|  308|\n",
      "|DisasterReliefs|  306|\n",
      "+---------------+-----+\n",
      "\n"
     ]
    },
    {
     "name": "stderr",
     "output_type": "stream",
     "text": [
      "                                                                                \r"
     ]
    }
   ],
   "source": [
    "df2.groupBy('username').count().orderBy(desc('count')).limit(5).show()"
   ]
  },
  {
   "cell_type": "markdown",
   "id": "b9499cae-c14a-4cac-8b84-9b7dd1babdc1",
   "metadata": {},
   "source": [
    "### Top 5 users who received most mentions"
   ]
  },
  {
   "cell_type": "code",
   "execution_count": 7,
   "id": "730ad171-2fd5-48c7-bf0a-03f70e133588",
   "metadata": {},
   "outputs": [
    {
     "name": "stderr",
     "output_type": "stream",
     "text": [
      "[Stage 8:===================================================>     (58 + 6) / 64]\r"
     ]
    },
    {
     "name": "stdout",
     "output_type": "stream",
     "text": [
      "+-------------+-----+\n",
      "|     mentions|count|\n",
      "+-------------+-----+\n",
      "|    P4LOIndia| 1033|\n",
      "|         PTLB|  730|\n",
      "| PTLBProjects|  619|\n",
      "|      TeleLaw|  488|\n",
      "|WeMeanToClean|  360|\n",
      "+-------------+-----+\n",
      "only showing top 5 rows\n",
      "\n"
     ]
    },
    {
     "name": "stderr",
     "output_type": "stream",
     "text": [
      "                                                                                \r"
     ]
    }
   ],
   "source": [
    "df2.groupBy('mentions').count().orderBy(desc('count')).show(5)"
   ]
  },
  {
   "cell_type": "markdown",
   "id": "310863c9-214f-4ed5-8340-90b281795d0a",
   "metadata": {},
   "source": [
    "## extract user location from tweets"
   ]
  },
  {
   "cell_type": "code",
   "execution_count": 8,
   "id": "327067e6-72ed-44fe-94f7-25ecd7ff63e3",
   "metadata": {
    "tags": []
   },
   "outputs": [
    {
     "name": "stdout",
     "output_type": "stream",
     "text": [
      "+------------------------------+\n",
      "|location                      |\n",
      "+------------------------------+\n",
      "|Manchester, England           |\n",
      "|Down very long track.         |\n",
      "|NULL                          |\n",
      "|Santa Ana, California         |\n",
      "|NULL                          |\n",
      "|Morgantown, WV                |\n",
      "|NULL                          |\n",
      "|NULL                          |\n",
      "|U.S.A.                        |\n",
      "|LORD HIS EXCELLENCY JAMES HRMH|\n",
      "+------------------------------+\n",
      "only showing top 10 rows\n",
      "\n"
     ]
    }
   ],
   "source": [
    "df.select('author.location').show(10, False)"
   ]
  },
  {
   "cell_type": "markdown",
   "id": "ad95086b-4385-4bf3-a9da-6b9072531ddc",
   "metadata": {},
   "source": [
    "### Display Top 5 user location"
   ]
  },
  {
   "cell_type": "code",
   "execution_count": 9,
   "id": "3647fb64-6a49-4fb8-8cd0-2cbf6bb13eb2",
   "metadata": {
    "tags": []
   },
   "outputs": [
    {
     "name": "stderr",
     "output_type": "stream",
     "text": [
      "[Stage 14:===================================================>    (59 + 5) / 64]\r"
     ]
    },
    {
     "name": "stdout",
     "output_type": "stream",
     "text": [
      "+---------------+-----+\n",
      "|       location|count|\n",
      "+---------------+-----+\n",
      "|           NULL|74798|\n",
      "|  United States| 2554|\n",
      "|            USA| 1330|\n",
      "|         Canada|  881|\n",
      "|London, England|  830|\n",
      "+---------------+-----+\n",
      "\n"
     ]
    },
    {
     "name": "stderr",
     "output_type": "stream",
     "text": [
      "                                                                                \r"
     ]
    }
   ],
   "source": [
    "result1=df.select('author.name', 'author.location').distinct()\n",
    "\n",
    "result1.groupBy('location').count().orderBy(desc('count')).limit(5).show()"
   ]
  },
  {
   "cell_type": "code",
   "execution_count": 10,
   "id": "3be8936c-a9b5-4168-af87-aeb74b47200a",
   "metadata": {
    "tags": []
   },
   "outputs": [
    {
     "name": "stderr",
     "output_type": "stream",
     "text": [
      "[Stage 20:==================================================>     (58 + 6) / 64]\r"
     ]
    },
    {
     "name": "stdout",
     "output_type": "stream",
     "text": [
      "+---------------+-----+\n",
      "|       location|count|\n",
      "+---------------+-----+\n",
      "|  United States| 2554|\n",
      "|            USA| 1330|\n",
      "|         Canada|  881|\n",
      "|London, England|  830|\n",
      "|   Florida, USA|  805|\n",
      "+---------------+-----+\n",
      "\n"
     ]
    },
    {
     "name": "stderr",
     "output_type": "stream",
     "text": [
      "                                                                                \r"
     ]
    }
   ],
   "source": [
    "result1.filter(col('location').isNotNull()).groupBy('location').count().orderBy(desc('count')).limit(5).show()"
   ]
  },
  {
   "cell_type": "markdown",
   "id": "a54909f8-fd1d-46e0-bb39-f8dc709cb40c",
   "metadata": {},
   "source": [
    "## Extract hashtags from tweets"
   ]
  },
  {
   "cell_type": "code",
   "execution_count": 23,
   "id": "3c7c55f1-1acc-44b9-834e-3254fceba0f4",
   "metadata": {
    "tags": []
   },
   "outputs": [
    {
     "name": "stdout",
     "output_type": "stream",
     "text": [
      "+--------------------+\n",
      "|                 tag|\n",
      "+--------------------+\n",
      "|                NULL|\n",
      "|                NULL|\n",
      "|                NULL|\n",
      "|                NULL|\n",
      "|                NULL|\n",
      "|                NULL|\n",
      "|[GretaThunberg, G...|\n",
      "|                NULL|\n",
      "|                NULL|\n",
      "|                NULL|\n",
      "|                NULL|\n",
      "|                NULL|\n",
      "|[climate, change,...|\n",
      "|                NULL|\n",
      "|                NULL|\n",
      "|                NULL|\n",
      "|                NULL|\n",
      "|                NULL|\n",
      "|                NULL|\n",
      "|                NULL|\n",
      "+--------------------+\n",
      "only showing top 20 rows\n",
      "\n"
     ]
    }
   ],
   "source": [
    "df.select('entities.hashtags.tag').show()"
   ]
  },
  {
   "cell_type": "markdown",
   "id": "aeba920c-4fa1-46c1-afce-9b4a1cb139d6",
   "metadata": {},
   "source": [
    "## Extract Entity (place, person, organizations) from tweets"
   ]
  },
  {
   "cell_type": "code",
   "execution_count": 11,
   "id": "423ae20c-c118-4abb-9901-bf015ca944a7",
   "metadata": {
    "tags": []
   },
   "outputs": [
    {
     "name": "stdout",
     "output_type": "stream",
     "text": [
      "+--------------------+--------------+\n",
      "|     normalized_text|          type|\n",
      "+--------------------+--------------+\n",
      "|                NULL|          NULL|\n",
      "|                NULL|          NULL|\n",
      "|[America, Pikas N...|[Place, Other]|\n",
      "|              [Elon]|      [Person]|\n",
      "|                NULL|          NULL|\n",
      "|                NULL|          NULL|\n",
      "|     [GretaThunberg]|      [Person]|\n",
      "| [Bible, Revelation]|[Other, Other]|\n",
      "|           [Florida]|       [Place]|\n",
      "|        [Ice-Age, -]|[Other, Other]|\n",
      "|                NULL|          NULL|\n",
      "|              [IPCC]|[Organization]|\n",
      "|     [MammothSteppe]|       [Place]|\n",
      "|                NULL|          NULL|\n",
      "|                NULL|          NULL|\n",
      "|[Ice Road Trucker...|[Other, Other]|\n",
      "|                NULL|          NULL|\n",
      "|    [Global Warming]|       [Other]|\n",
      "|                NULL|          NULL|\n",
      "|                NULL|          NULL|\n",
      "+--------------------+--------------+\n",
      "only showing top 20 rows\n",
      "\n"
     ]
    }
   ],
   "source": [
    "df.select('entities.annotations.normalized_text', 'entities.annotations.type').show()"
   ]
  },
  {
   "cell_type": "code",
   "execution_count": 8,
   "id": "62e0a709-6bee-4b33-8cd0-22234bfec9eb",
   "metadata": {
    "tags": []
   },
   "outputs": [
    {
     "name": "stdout",
     "output_type": "stream",
     "text": [
      "+------------+--------------------+\n",
      "|         key|               value|\n",
      "+------------+--------------------+\n",
      "|       Place|             America|\n",
      "|       Other|       Pikas Now Pre|\n",
      "|      Person|                Elon|\n",
      "|      Person|       GretaThunberg|\n",
      "|       Other|          Revelation|\n",
      "|       Place|             Florida|\n",
      "|       Other|                   -|\n",
      "|Organization|                IPCC|\n",
      "|       Place|       MammothSteppe|\n",
      "|       Other|Don’t Call It Glo...|\n",
      "|       Other|      Global Warming|\n",
      "|      Person|               Greta|\n",
      "|      Person|       GretaThunberg|\n",
      "|       Other|            Libtards|\n",
      "|       Other|         mumbo-jumbo|\n",
      "|       Other|          Solar Myth|\n",
      "|       Other|                 CO2|\n",
      "|      Person|                 Ben|\n",
      "|Organization|Bureau of Meteoro...|\n",
      "|       Place|              Europe|\n",
      "+------------+--------------------+\n",
      "only showing top 20 rows\n",
      "\n"
     ]
    }
   ],
   "source": [
    "#create a map from key value pair\n",
    "\n",
    "df1=df.select(F.map_from_arrays('entities.annotations.type', 'entities.annotations.normalized_text').alias('entities'))\n",
    "\n",
    "# explode key value pair\n",
    "\n",
    "df2=df1.select(explode('entities'))\n",
    "\n",
    "df2.show()"
   ]
  },
  {
   "cell_type": "markdown",
   "id": "b566c5f7-815a-46ee-b424-e6a55a71588c",
   "metadata": {},
   "source": [
    "### Top 5 person mentions in tweets"
   ]
  },
  {
   "cell_type": "code",
   "execution_count": 9,
   "id": "13798ae6-ee1e-4d3a-802e-56e6e61214c5",
   "metadata": {
    "tags": []
   },
   "outputs": [
    {
     "name": "stderr",
     "output_type": "stream",
     "text": [
      "[Stage 16:==================================================>     (58 + 6) / 64]\r"
     ]
    },
    {
     "name": "stdout",
     "output_type": "stream",
     "text": [
      "+------------+-----+\n",
      "|       value|count|\n",
      "+------------+-----+\n",
      "|Paul Ehrlich| 4624|\n",
      "|     Al Gore| 2449|\n",
      "|  John Kerry| 1836|\n",
      "|   IanPlimer| 1818|\n",
      "|  Bill Gates| 1668|\n",
      "+------------+-----+\n",
      "only showing top 5 rows\n",
      "\n"
     ]
    },
    {
     "name": "stderr",
     "output_type": "stream",
     "text": [
      "                                                                                \r"
     ]
    }
   ],
   "source": [
    "df2.filter(col('key')=='Person').groupBy('value').count().orderBy(desc('count')).show(5)"
   ]
  },
  {
   "cell_type": "code",
   "execution_count": null,
   "id": "7655626a-d97d-4cb5-8d48-6ac50b204c6c",
   "metadata": {},
   "outputs": [],
   "source": []
  }
 ],
 "metadata": {
  "kernelspec": {
   "display_name": "BigDataEnv",
   "language": "python",
   "name": "bigdataenv"
  },
  "language_info": {
   "codemirror_mode": {
    "name": "ipython",
    "version": 3
   },
   "file_extension": ".py",
   "mimetype": "text/x-python",
   "name": "python",
   "nbconvert_exporter": "python",
   "pygments_lexer": "ipython3",
   "version": "3.12.11"
  }
 },
 "nbformat": 4,
 "nbformat_minor": 5
}
