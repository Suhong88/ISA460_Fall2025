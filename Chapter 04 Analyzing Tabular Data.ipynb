{
 "cells": [
  {
   "cell_type": "markdown",
   "id": "7766864e-a302-4cd4-9d05-55f6a0fd01b9",
   "metadata": {},
   "source": [
    "# Chapter 4 Analyzing tabular data with pyspark\n",
    "\n",
    "This chapter cover:\n",
    "\n",
    "- Reading delimited data into a PySpark data frame\n",
    "- Understanding how PySpark represents tabular data in a data frame\n",
    "- Ingesting and exploring tabular or relational data\n",
    "- Selecting, manipulating, renaming, and deleting columns in a data frame\n",
    "- Summarizing data frames for quick exploration"
   ]
  },
  {
   "cell_type": "code",
   "execution_count": null,
   "id": "7e2d7c37-7db4-4dc3-aba9-23dea7e68d7c",
   "metadata": {
    "tags": []
   },
   "outputs": [],
   "source": [
    "from pyspark.sql import SparkSession\n",
    "import pyspark.sql.functions as F\n",
    "\n",
    "# change the account name to your email account\n",
    "account='sli'\n",
    "\n",
    "# define a root path to access the data in the DataAnalysisWithPythonAndPySpark\n",
    "data_path='/net/clusterhn/home/'+account+'/isa460/data/'\n",
    "\n",
    "spark = (SparkSession.builder.appName(\"Analyzing tabluar data\")\n",
    "        .config(\"spark.port.maxRetries\", \"100\")\n",
    "        .getOrCreate())\n",
    "\n",
    "# confiture the log level (defaulty is WWARN)\n",
    "spark.sparkContext.setLogLevel('ERROR')"
   ]
  },
  {
   "cell_type": "code",
   "execution_count": null,
   "id": "ff4cca5c-fe22-480c-9e06-f491d35d13c2",
   "metadata": {
    "tags": []
   },
   "outputs": [],
   "source": [
    "# import data from a list of lists\n",
    "\n",
    "my_grocery_list=[\n",
    "    [\"Banana\", 2, 1.74],\n",
    "    [\"Apple\", 4, 2.04],\n",
    "    [\"Carrot\", 1, 1.09],\n",
    "    [\"cake\", 1, 10.99]\n",
    "]\n",
    "\n",
    "# create a Dataframe based on the list\n",
    "\n",
    "df=spark.createDataFrame(my_grocery_list, [\"Item\", \"Quantity\", \"Price\"])\n",
    "\n",
    "df.printSchema()"
   ]
  },
  {
   "cell_type": "markdown",
   "id": "efe242b3-12e7-453e-a4f2-0c8718a6c23d",
   "metadata": {
    "tags": []
   },
   "source": [
    "## import data from a csv file\n",
    "\n",
    "For this exercise, we’ll use some open data from the government of Canada, more specifically the CRTC (Canadian Radio-Television and Telecommunications Commission). Every broadcaster is mandated to provide a complete log of the programs and commercials showcased to the Canadian public. This gives us a lot of potential questions to answer, but we’ll select just one:\n",
    "**What are the channels with the greatest and least proportion of commercials?**\n",
    "\n",
    "You can download the [file](http://mng.bz/y4YJ) on the Canada Open Data portal ; select the BroadcastLogs_2018_Q3_M8 file. The file is 994 MB to download, which might be too large, depending on your computer. The book’s repository contains a sample of the data under the data/broadcast_logs directory, which you can use in place of the original file. You also need to download the Data Dictionary in .doc form, as well as the Reference Tables zip file, unzipping them into a ReferenceTables directory in data/ broadcast_logs. Once again, the examples assume that the data is downloaded under data/broadcast_logs and that PySpark is launched from the root of the repository."
   ]
  },
  {
   "cell_type": "code",
   "execution_count": null,
   "id": "9db14242-421f-4469-adbb-4bc1e1a9edaf",
   "metadata": {
    "tags": []
   },
   "outputs": [],
   "source": [
    "import os\n",
    "\n",
    "directory=data_path+'/broadcast_logs/'\n",
    "\n",
    "logs=spark.read.csv(os.path.join(directory, \"BroadcastLogs_2018_Q3_M8_sample.CSV\"),\n",
    "                                 sep=\"|\",\n",
    "                                 header=True,\n",
    "                                 inferSchema=True,\n",
    "                                 timestampFormat=\"yyyy-MM-dd\",)"
   ]
  },
  {
   "cell_type": "code",
   "execution_count": null,
   "id": "f4c2fd48-837b-416e-a91c-d7a43de6ca8b",
   "metadata": {
    "tags": []
   },
   "outputs": [],
   "source": [
    "logs.printSchema()"
   ]
  },
  {
   "cell_type": "markdown",
   "id": "c50b891d-dad2-4ee3-8166-f76738859501",
   "metadata": {
    "tags": []
   },
   "source": [
    "## Exploring the shape of our data universe\n",
    "\n",
    "![Figure 4.4](https://raw.githubusercontent.com/Suhong88/ISA460_Fall2023/main/images/Figure%204.4.png)"
   ]
  },
  {
   "cell_type": "markdown",
   "id": "774fc22f-2188-445e-b942-70134370abb2",
   "metadata": {
    "tags": []
   },
   "source": [
    "## The basics of data manipulation: Selecting, dropping, renaming, ordering, diagnosing"
   ]
  },
  {
   "cell_type": "markdown",
   "id": "08167597-7be7-4ec6-8e26-1d4f72049600",
   "metadata": {},
   "source": [
    "### Select columns"
   ]
  },
  {
   "cell_type": "code",
   "execution_count": null,
   "id": "4b6b3968-4562-4480-834b-bad621eaf3a6",
   "metadata": {
    "tags": []
   },
   "outputs": [],
   "source": [
    "logs.select(\"BroadcastLogID\", \"LogServiceID\", \"LogDate\").show(5, False)"
   ]
  },
  {
   "cell_type": "code",
   "execution_count": null,
   "id": "54393b70-1fb5-44ed-bb6b-b92e41738f81",
   "metadata": {
    "tags": []
   },
   "outputs": [],
   "source": [
    "# four ways of selecting columns\n",
    "# Using the string to column conversion\n",
    "logs.select(\"BroadCastLogID\", \"LogServiceID\", \"LogDate\")\n",
    "\n",
    "# use * to unpack a list\n",
    "logs.select(*[\"BroadCastLogID\", \"LogServiceID\", \"LogDate\"])\n",
    " \n",
    "# Passing the column object explicitly\n",
    "logs.select(\n",
    "    F.col(\"BroadCastLogID\"), F.col(\"LogServiceID\"), F.col(\"LogDate\")\n",
    ")\n",
    "logs.select(\n",
    "    *[F.col(\"BroadCastLogID\"), F.col(\"LogServiceID\"), F.col(\"LogDate\")]\n",
    ")"
   ]
  },
  {
   "cell_type": "code",
   "execution_count": null,
   "id": "925878a5-0946-43a5-a07b-fe3428e5b576",
   "metadata": {},
   "outputs": [],
   "source": [
    "logs.show()"
   ]
  },
  {
   "cell_type": "code",
   "execution_count": null,
   "id": "dcc4ccd6-1aa8-464c-846e-6e69b05ff46d",
   "metadata": {
    "tags": []
   },
   "outputs": [],
   "source": [
    "# for a dataframe with a lot of columns, we can slice the columns into groups to display them by small groups\n",
    "\n"
   ]
  },
  {
   "cell_type": "code",
   "execution_count": null,
   "id": "57bc55ab-9abc-428a-8a1e-33c03be5d4eb",
   "metadata": {
    "tags": []
   },
   "outputs": [],
   "source": [
    "# create a function to display sample records by a group of columns\n",
    "\n"
   ]
  },
  {
   "cell_type": "code",
   "execution_count": null,
   "id": "6da95927-af9c-46b1-a773-5882d6b2cbbc",
   "metadata": {
    "tags": []
   },
   "outputs": [],
   "source": [
    "# display logs file by five columns per row\n",
    "\n"
   ]
  },
  {
   "cell_type": "markdown",
   "id": "55cd07e8-ddfe-4021-83ad-9301bb24cb89",
   "metadata": {
    "tags": []
   },
   "source": [
    "### Store this function into a python file (helper.py) to be used later"
   ]
  },
  {
   "cell_type": "markdown",
   "id": "490c1736-c8da-4646-bbc5-ba833acd3429",
   "metadata": {},
   "source": [
    "### Drop columns"
   ]
  },
  {
   "cell_type": "code",
   "execution_count": null,
   "id": "e60771f7-93f8-42a2-8c91-e7f519a52280",
   "metadata": {
    "tags": []
   },
   "outputs": [],
   "source": [
    "logs1 = logs.drop(\"BroadcastLogID\", \"SequenceNO\")\n",
    "\n",
    "# Testing if we effectively got rid of the columns\n",
    " \n",
    "print(\"BroadcastLogID\" in logs1.columns)  # => False\n",
    "print(\"SequenceNO\" in logs1.columns)  # => False"
   ]
  },
  {
   "cell_type": "code",
   "execution_count": null,
   "id": "447f5325-2b39-4904-9491-c4850f74892f",
   "metadata": {
    "tags": []
   },
   "outputs": [],
   "source": [
    "# instead drop, you can also select the ones you want to keep\n",
    "logs1 = logs.select(\n",
    "    *[c for c in logs.columns if c not in [\"BroadcastLogID\", \"SequenceNO\"]]\n",
    ")\n",
    "\n",
    "logs1.columns"
   ]
  },
  {
   "cell_type": "markdown",
   "id": "66f198b5-d291-4ebe-9fe4-02f3190c8ae7",
   "metadata": {},
   "source": [
    "### Create new columns\n",
    "\n",
    "Create a new column total duration in second base on duration"
   ]
  },
  {
   "cell_type": "code",
   "execution_count": null,
   "id": "601c63f1-612b-4bc4-8f58-b59d23e6a818",
   "metadata": {
    "tags": []
   },
   "outputs": [],
   "source": [
    "# create a column showing duration in seconds\n",
    "\n",
    "logs.select(\"Duration\").show(5)"
   ]
  },
  {
   "cell_type": "code",
   "execution_count": null,
   "id": "71e380b6-466c-4e94-9ad7-07aeefb78dee",
   "metadata": {
    "tags": []
   },
   "outputs": [],
   "source": [
    "logs.select(F.col(\"Duration\")).dtypes"
   ]
  },
  {
   "cell_type": "code",
   "execution_count": null,
   "id": "180cd7db-7cf7-4f98-bdb6-5be9a2511ff2",
   "metadata": {
    "tags": []
   },
   "outputs": [],
   "source": [
    "# step 1: extract hours, minutes and seconds\n",
    "\n"
   ]
  },
  {
   "cell_type": "code",
   "execution_count": null,
   "id": "42fd5ddf-1715-4e4e-b36f-b6c5eb14cf93",
   "metadata": {
    "tags": []
   },
   "outputs": [],
   "source": [
    "# step 2. merge all fields into one\n",
    "\n",
    "\n"
   ]
  },
  {
   "cell_type": "code",
   "execution_count": null,
   "id": "dd078607-df1c-4dc8-b69f-77eeb27eefd7",
   "metadata": {
    "tags": []
   },
   "outputs": [],
   "source": [
    "# create a new column for duration in seconds\n",
    "\n"
   ]
  },
  {
   "cell_type": "code",
   "execution_count": null,
   "id": "f158a873-3eab-46ae-afbb-50df7fb90035",
   "metadata": {
    "tags": []
   },
   "outputs": [],
   "source": [
    "# print Schema. Why I do not see the new column?\n",
    "\n"
   ]
  },
  {
   "cell_type": "code",
   "execution_count": null,
   "id": "8c6aa13d-3872-456b-876b-5fee93f4ff52",
   "metadata": {
    "tags": []
   },
   "outputs": [],
   "source": [
    "# save the result into a new dataframe"
   ]
  },
  {
   "cell_type": "markdown",
   "id": "b4474557-ecad-4d4a-9cc2-87f36dd27666",
   "metadata": {},
   "source": [
    "![Warning](https://raw.githubusercontent.com/Suhong88/ISA460_Fall2023/main/images/Figure%204.5.png)"
   ]
  },
  {
   "cell_type": "markdown",
   "id": "634efaf1-1c8a-4d6d-9a40-8df15c47519b",
   "metadata": {},
   "source": [
    "### Rename and Reordering columns"
   ]
  },
  {
   "cell_type": "code",
   "execution_count": null,
   "id": "e2ba2fc0-0895-4ce9-ae73-3b189efa2bb0",
   "metadata": {
    "tags": []
   },
   "outputs": [],
   "source": [
    "logs2=logs1.withColumnRenamed(\"Duration_seconds\", \"duration_seconds\")\n",
    "logs2.columns"
   ]
  },
  {
   "cell_type": "code",
   "execution_count": null,
   "id": "79192791-87a3-4da4-9814-04d2f536c811",
   "metadata": {
    "tags": []
   },
   "outputs": [],
   "source": [
    "# change all columns to lower case\n",
    "\n"
   ]
  },
  {
   "cell_type": "code",
   "execution_count": null,
   "id": "afa2733f-5654-409d-8405-4cc9fe4c4ed0",
   "metadata": {
    "tags": []
   },
   "outputs": [],
   "source": [
    "# create a function to change all column names to lower caose\n",
    "\n",
    "\n",
    "\n",
    "# add this function our helper functions"
   ]
  },
  {
   "cell_type": "code",
   "execution_count": null,
   "id": "3dc8322b-1718-40e3-905d-d908c141523b",
   "metadata": {
    "tags": []
   },
   "outputs": [],
   "source": []
  },
  {
   "cell_type": "code",
   "execution_count": null,
   "id": "5af1a0d7-6d48-4f64-b7ca-7b6c429a9021",
   "metadata": {
    "tags": []
   },
   "outputs": [],
   "source": [
    "# order all columns in alphabetical order\n",
    "\n"
   ]
  },
  {
   "cell_type": "markdown",
   "id": "36377169-1c00-4313-8a24-6d01ed170906",
   "metadata": {},
   "source": [
    "### Diagnosing a data frame with describe() and summary()"
   ]
  },
  {
   "cell_type": "code",
   "execution_count": null,
   "id": "04278d2e-6f13-4c1a-a382-e425c4d62d53",
   "metadata": {
    "tags": []
   },
   "outputs": [],
   "source": [
    "#logs.describe().show()"
   ]
  },
  {
   "cell_type": "code",
   "execution_count": null,
   "id": "6355bb40-31d8-4442-a4fa-9ae6101a9c76",
   "metadata": {
    "tags": []
   },
   "outputs": [],
   "source": [
    "# for a dataframe with a lot of column, we can describe it one by one\n",
    "\n"
   ]
  },
  {
   "cell_type": "code",
   "execution_count": null,
   "id": "553a62f3-219e-40f1-afea-76318d952df6",
   "metadata": {
    "tags": []
   },
   "outputs": [],
   "source": [
    "# return numerical columns\n",
    "\n"
   ]
  },
  {
   "cell_type": "code",
   "execution_count": null,
   "id": "273caf61-f8af-461c-8ef1-26ab7a0077d9",
   "metadata": {
    "tags": []
   },
   "outputs": [],
   "source": [
    "# apply describe to numerical columns\n"
   ]
  },
  {
   "cell_type": "markdown",
   "id": "7f658cfd-fe07-4dec-894c-9fa876aa92f2",
   "metadata": {},
   "source": [
    "## In class exercise"
   ]
  },
  {
   "cell_type": "markdown",
   "id": "15dd5491-59ba-4695-954c-938bf5f517d9",
   "metadata": {},
   "source": [
    "### 1. Create a new data frame, logs_clean, that contains only the columns that do not end with ID."
   ]
  },
  {
   "cell_type": "code",
   "execution_count": null,
   "id": "9b6b3c64-8777-4b93-b633-c2972648f521",
   "metadata": {
    "tags": []
   },
   "outputs": [],
   "source": [
    "import os\n",
    "\n",
    "directory=data_path+'/broadcast_logs/'\n",
    "\n",
    "logs=spark.read.csv(os.path.join(directory, \"BroadcastLogs_2018_Q3_M8_sample.CSV\"),\n",
    "                                 sep=\"|\",\n",
    "                                 header=True,\n",
    "                                 inferSchema=True,\n",
    "                                 timestampFormat=\"yyyy-MM-dd\",)\n",
    "logs.columns"
   ]
  },
  {
   "cell_type": "code",
   "execution_count": null,
   "id": "81431def-48a5-4b85-9783-ab9250c678ad",
   "metadata": {},
   "outputs": [],
   "source": []
  },
  {
   "cell_type": "markdown",
   "id": "1ea33429-101b-4e5f-bb60-ae0770f36d71",
   "metadata": {},
   "source": [
    "### 2. Display a list of program title that includes word apple, remove duplidate."
   ]
  },
  {
   "cell_type": "code",
   "execution_count": null,
   "id": "35943410-5545-4493-9280-6f2e44af50f1",
   "metadata": {},
   "outputs": [],
   "source": []
  },
  {
   "cell_type": "markdown",
   "id": "2317f664-811b-4348-8324-9cebad9f80ec",
   "metadata": {},
   "source": [
    "### 3. Display top 5 program title based on number of times it has been broadcasted."
   ]
  },
  {
   "cell_type": "code",
   "execution_count": null,
   "id": "7700f4b9-9b9d-416a-8b31-9437574c5781",
   "metadata": {},
   "outputs": [],
   "source": []
  },
  {
   "cell_type": "code",
   "execution_count": null,
   "id": "efa69cb5-8193-4a6d-81e8-bb625a65189a",
   "metadata": {},
   "outputs": [],
   "source": []
  }
 ],
 "metadata": {
  "kernelspec": {
   "display_name": "BigDataEnv",
   "language": "python",
   "name": "bigdataenv"
  },
  "language_info": {
   "codemirror_mode": {
    "name": "ipython",
    "version": 3
   },
   "file_extension": ".py",
   "mimetype": "text/x-python",
   "name": "python",
   "nbconvert_exporter": "python",
   "pygments_lexer": "ipython3",
   "version": "3.12.11"
  }
 },
 "nbformat": 4,
 "nbformat_minor": 5
}
