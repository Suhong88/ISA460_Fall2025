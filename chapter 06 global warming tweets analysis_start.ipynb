{
 "cells": [
  {
   "cell_type": "markdown",
   "id": "0e9954ae-938e-4ed4-bfb5-254897867c07",
   "metadata": {
    "tags": []
   },
   "source": [
    "# Analysis of Global Warming Tweets on January 2023.\n",
    "This proejct is based on global warming tweets tweeted on January 2023 and stored in parquet format. I have added emotion (anger, joy, opotimism and sadness) and gender at the end of each tweets. Emotion analysis was performed using a pre-trained model from Hugging Face (Twitter-roBERTa-base for Emotion Recognition). This is a roBERTa-base model trained on ~58M tweets and finetuned for emotion recognition with the TweetEval benchmark. Each tweet is classified into four emotions (joy, optimism, anger, and sadness) with a confidence score. In addition, gender is extracted based on first name of user account if a user account has a real first name and the gender can be identified by python package gender guesser. "
   ]
  },
  {
   "cell_type": "markdown",
   "id": "63ff41ee-70b1-4c95-a0d1-5c96345127d7",
   "metadata": {
    "tags": []
   },
   "source": [
    "# Read tweets into a data frame"
   ]
  },
  {
   "cell_type": "code",
   "execution_count": 1,
   "id": "646d1f62-9544-4477-9e06-6c04918cb5d7",
   "metadata": {
    "tags": []
   },
   "outputs": [
    {
     "name": "stderr",
     "output_type": "stream",
     "text": [
      "Setting default log level to \"WARN\".\n",
      "To adjust logging level use sc.setLogLevel(newLevel). For SparkR, use setLogLevel(newLevel).\n",
      "25/10/07 09:48:59 WARN NativeCodeLoader: Unable to load native-hadoop library for your platform... using builtin-java classes where applicable\n",
      "25/10/07 09:48:59 WARN Utils: Service 'SparkUI' could not bind on port 4040. Attempting port 4041.\n",
      "25/10/07 09:48:59 WARN Utils: Service 'SparkUI' could not bind on port 4041. Attempting port 4042.\n",
      "                                                                                \r"
     ]
    }
   ],
   "source": [
    "from pyspark.sql import SparkSession\n",
    "import pyspark.sql.functions as F\n",
    "from helper_functions import displayByGroup\n",
    "import os\n",
    "import pandas as pd\n",
    "import seaborn as sns\n",
    "import matplotlib.pyplot as plt\n",
    "from pyspark.sql.functions import col, explode, desc\n",
    "\n",
    "# check if the Spark session is active. If it is activate, close it\n",
    "\n",
    "try:\n",
    "    if spark:\n",
    "        spark.stop()\n",
    "except:\n",
    "    pass    \n",
    "\n",
    "spark = (SparkSession.builder.appName(\"Global Warming Tweets Analysis\")\n",
    "        .config(\"spark.port.maxRetries\", \"100\")\n",
    "        .config(\"spark.sql.mapKeyDedupPolicy\", \"LAST_WIN\")  # This configuration allow the duplicate keys in the map data type.\n",
    "#        .config(\"spark.driver.memory\", \"16g\")\n",
    "        .getOrCreate())\n",
    "\n",
    "# confiture the log level (defaulty is WWARN)\n",
    "spark.sparkContext.setLogLevel('ERROR')\n",
    "\n",
    "# read the global warming tweets\n",
    "\n",
    "df=spark.read.parquet('/opt/shared/globalwarming_202301')"
   ]
  },
  {
   "cell_type": "markdown",
   "id": "15c361b6-f253-4b3f-8ea2-2a9dd25153a8",
   "metadata": {},
   "source": [
    "# In class exercise"
   ]
  },
  {
   "cell_type": "markdown",
   "id": "675df85d-1aa1-4e0c-b5b1-8685c447bab9",
   "metadata": {},
   "source": [
    "## Extract mentions of each Twitter account/user"
   ]
  },
  {
   "cell_type": "code",
   "execution_count": 4,
   "id": "1553be56-6141-4d73-a437-9c2a872cbfae",
   "metadata": {
    "tags": []
   },
   "outputs": [],
   "source": [
    "#df.printSchema()"
   ]
  },
  {
   "cell_type": "code",
   "execution_count": 2,
   "id": "96be4cbc-2d4e-471f-9eea-7891909dc044",
   "metadata": {
    "tags": []
   },
   "outputs": [],
   "source": [
    "#df.select('author').printSchema()"
   ]
  },
  {
   "cell_type": "code",
   "execution_count": null,
   "id": "890e2831-79e3-4fe7-9f80-39fa06341275",
   "metadata": {},
   "outputs": [],
   "source": []
  },
  {
   "cell_type": "code",
   "execution_count": null,
   "id": "ac53bb85-7867-4192-8626-83b1dac03e30",
   "metadata": {},
   "outputs": [],
   "source": []
  },
  {
   "cell_type": "markdown",
   "id": "b1bd1e11-57a1-4f4a-a4e7-b562a20e517a",
   "metadata": {},
   "source": [
    "### Top 5 users who mentioned most people"
   ]
  },
  {
   "cell_type": "code",
   "execution_count": null,
   "id": "48e8b21f-c8fc-4bc3-8524-eaa693741889",
   "metadata": {
    "tags": []
   },
   "outputs": [],
   "source": []
  },
  {
   "cell_type": "code",
   "execution_count": null,
   "id": "0d834be8-8cbb-4879-8ca2-45f94d9c5d41",
   "metadata": {},
   "outputs": [],
   "source": []
  },
  {
   "cell_type": "markdown",
   "id": "b9499cae-c14a-4cac-8b84-9b7dd1babdc1",
   "metadata": {},
   "source": [
    "### Top 5 users who received most mentions"
   ]
  },
  {
   "cell_type": "code",
   "execution_count": null,
   "id": "730ad171-2fd5-48c7-bf0a-03f70e133588",
   "metadata": {},
   "outputs": [],
   "source": []
  },
  {
   "cell_type": "code",
   "execution_count": null,
   "id": "c815db9f-6dd6-40e8-bd68-f2bbcd835a2a",
   "metadata": {},
   "outputs": [],
   "source": []
  },
  {
   "cell_type": "markdown",
   "id": "310863c9-214f-4ed5-8340-90b281795d0a",
   "metadata": {},
   "source": [
    "## Extract user location from tweets"
   ]
  },
  {
   "cell_type": "code",
   "execution_count": 4,
   "id": "327067e6-72ed-44fe-94f7-25ecd7ff63e3",
   "metadata": {
    "tags": []
   },
   "outputs": [],
   "source": [
    "#df.select('author.location').show(10, False)"
   ]
  },
  {
   "cell_type": "markdown",
   "id": "ad95086b-4385-4bf3-a9da-6b9072531ddc",
   "metadata": {},
   "source": [
    "### Display Top 5 user location"
   ]
  },
  {
   "cell_type": "code",
   "execution_count": null,
   "id": "3647fb64-6a49-4fb8-8cd0-2cbf6bb13eb2",
   "metadata": {
    "tags": []
   },
   "outputs": [],
   "source": []
  },
  {
   "cell_type": "code",
   "execution_count": null,
   "id": "3be8936c-a9b5-4168-af87-aeb74b47200a",
   "metadata": {
    "tags": []
   },
   "outputs": [],
   "source": []
  },
  {
   "cell_type": "code",
   "execution_count": null,
   "id": "e0e30694-2f47-4cda-a48c-9d06487b1c3f",
   "metadata": {},
   "outputs": [],
   "source": []
  },
  {
   "cell_type": "markdown",
   "id": "a54909f8-fd1d-46e0-bb39-f8dc709cb40c",
   "metadata": {},
   "source": [
    "## Extract hashtags from tweets"
   ]
  },
  {
   "cell_type": "code",
   "execution_count": 5,
   "id": "3c7c55f1-1acc-44b9-834e-3254fceba0f4",
   "metadata": {
    "tags": []
   },
   "outputs": [],
   "source": [
    "#df.select('entities.hashtags.tag').show()"
   ]
  },
  {
   "cell_type": "markdown",
   "id": "aeba920c-4fa1-46c1-afce-9b4a1cb139d6",
   "metadata": {},
   "source": [
    "## Extract Entity (place, person, organizations) from tweets"
   ]
  },
  {
   "cell_type": "code",
   "execution_count": 6,
   "id": "423ae20c-c118-4abb-9901-bf015ca944a7",
   "metadata": {
    "tags": []
   },
   "outputs": [],
   "source": [
    "#df.select('entities.annotations.normalized_text', 'entities.annotations.type').show()"
   ]
  },
  {
   "cell_type": "markdown",
   "id": "fab02a08-738b-4a0e-ab79-1847a4af1c35",
   "metadata": {},
   "source": [
    "## Top 5 people mentioned in tweets"
   ]
  },
  {
   "cell_type": "code",
   "execution_count": null,
   "id": "62e0a709-6bee-4b33-8cd0-22234bfec9eb",
   "metadata": {
    "tags": []
   },
   "outputs": [],
   "source": []
  },
  {
   "cell_type": "code",
   "execution_count": null,
   "id": "2773302f-17ef-49ca-8d25-f9c03478d7b2",
   "metadata": {
    "tags": []
   },
   "outputs": [],
   "source": []
  },
  {
   "cell_type": "code",
   "execution_count": null,
   "id": "7655626a-d97d-4cb5-8d48-6ac50b204c6c",
   "metadata": {},
   "outputs": [],
   "source": []
  }
 ],
 "metadata": {
  "kernelspec": {
   "display_name": "BigDataEnv",
   "language": "python",
   "name": "bigdataenv"
  },
  "language_info": {
   "codemirror_mode": {
    "name": "ipython",
    "version": 3
   },
   "file_extension": ".py",
   "mimetype": "text/x-python",
   "name": "python",
   "nbconvert_exporter": "python",
   "pygments_lexer": "ipython3",
   "version": "3.12.11"
  }
 },
 "nbformat": 4,
 "nbformat_minor": 5
}
